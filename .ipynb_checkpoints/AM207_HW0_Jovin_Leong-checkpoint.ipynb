{
 "cells": [
  {
   "cell_type": "markdown",
   "metadata": {},
   "source": [
    "# Homework #0 (Due 09/11/2019, 11:59pm)\n",
    "## Review of Stastistical Modeling and Scientific Computing\n",
    "\n",
    "**AM 207: Advanced Scientific Computing**<br>\n",
    "**Instructor: Weiwei Pan**<br>\n",
    "**Fall 2019**"
   ]
  },
  {
   "cell_type": "markdown",
   "metadata": {},
   "source": [
    "**Name:** Jovin Leong\n",
    "\n",
    "**Students collaborators:**"
   ]
  },
  {
   "cell_type": "markdown",
   "metadata": {},
   "source": [
    "### Instructions:\n",
    "\n",
    "**Submission Format:** Use this notebook as a template to complete your homework. Please intersperse text blocks (using Markdown cells) amongst `python` code and results -- format your submission for maximum readability. Your assignments will be graded for correctness as well as clarity of exposition and presentation -- a “right” answer by itself without an explanation or is presented with a difficult to follow format will receive no credit.\n",
    "\n",
    "**Code Check:** Before submitting, you must do a \"Restart and Run All\" under \"Kernel\" in the Jupyter or colab menu. Portions of your submission that contains syntactic or run-time errors will not be graded.\n",
    "\n",
    "**Libraries and packages:** Unless a problems specifically asks you to implement from scratch, you are welcomed to use any `python` library package in the standard Anaconda distribution."
   ]
  },
  {
   "cell_type": "code",
   "execution_count": 4,
   "metadata": {},
   "outputs": [],
   "source": [
    "### Import basic libraries\n",
    "import numpy as np\n",
    "import pandas as pd\n",
    "import sklearn as sk\n",
    "from sklearn.linear_model import LinearRegression\n",
    "import matplotlib.pyplot as plt\n",
    "%matplotlib inline"
   ]
  },
  {
   "cell_type": "markdown",
   "metadata": {},
   "source": [
    "## Part I: Maximum Likelihood Estimators for Linear Regression\n",
    "### (Material covered in CS109A or equivalent)\n",
    "In this problem, you are given a dataset with a single predictor $X$ and a single outcome $y$, and your task is to fit a linear model to the data. The dataset is saved as `HW0_data.csv` in CSV (Comma Separated Values) format and can be read using the `.read_csv()` function from the `pandas` library.\n",
    "\n",
    "Assume that the outcome $y$ can be modeled by the following process:\n",
    "\\begin{aligned}\n",
    "y &= f(x) + \\epsilon = w_1x + w_0 + \\epsilon, \\quad \\epsilon \\sim \\mathcal{N}(0, 0.5)\n",
    "\\end{aligned}\n",
    "where $w_1$ and $w_0$, the *parameters* of the function $f$, are unknown constants. \n",
    "\n",
    "1. **(Model Building)** Write the analytical expression for the likelihood function $p(y|x, w_1, w_0)$, for a single observation $(x, y)$. Write the analytical expression for the likelihood function $\\prod_{n=1}^N p(y_n|x_n, w_1, w_0)$ for an entire dataset of $N$ number of observations. \n",
    "\n",
    "  *Hint: for a given $x$ and fixed parameters, what is the distribution of $y$?*"
   ]
  },
  {
   "cell_type": "markdown",
   "metadata": {},
   "source": [
    "**1.** For a given x and fixed parameters $w_0$ and $w_1$, y follows a Gaussian distribution. As such, the likelihood function of a single observation of $(x,y)$ is equals to the probability density of a Gaussian distribution.\n",
    "$$p(y|x,w_1,w_0) = \\frac {1}{\\sqrt{2 π \t{\\displaystyle \\sigma ^{2}}}\\} e^{-\\frac {(y-\t{\\displaystyle}\\mu)^2}{{2\\displaystyle \\sigma ^{2}}}\\}\\$$\n",
    "\n",
    "For the entire dataset of N operations, the likelihood function is as above - except that our likelihood function considers $x_1, x_2, ... x_n$:\n",
    "$$ \\prod_{n=1}^N p(y_n|x_n,w_1,w_0)\\ = \\prod_{n=1}^N \\frac {1}{\\sqrt{2 π \t{\\displaystyle \\sigma ^{2}}}\\} e^{-\\frac {(y_n-\t{\\displaystyle}\\mu)^2}{{2\\displaystyle \\sigma ^{2}}}\\}\\$$\n",
    "\n",
    "since we have $${\\displaystyle\\sigma ^{2}}_e = 0.5$$ and $$y_n = w_1 x_n + w_0 + \\epsilon,$$ our likelihood function becomes\n",
    "\n",
    "$$ \\prod_{n=1}^N p(y_n|x_n,w_1,w_0)\\ = \\prod_{n=1}^N \\frac {e^{- (y_n - w_1 x_n - w_0)}}{\\sqrt{π}\\} \\$$"
   ]
  },
  {
   "cell_type": "markdown",
   "metadata": {},
   "source": [
    "2. **(Defining a Learning Objective)** The Maximum Likelihood Estimators (MLE) of $w_1$ and $w_0$ are defined as\n",
    "\n",
    "\\begin{aligned}\n",
    "w^{\\text{MLE}}_1, w^{\\text{MLE}}_0 = \\underset{w_1, w_0}{\\mathrm{argmax}}\\; \\prod_{n=1}^N p(y_n|x_n, w_1, w_0)\n",
    "\\end{aligned}\n",
    "Show that finding $w_1$ and $w_0$ that maximizes the likelihood is equivalent to finding parameters that minimize the Mean Squared Error (MSE) of your model.\n",
    "\n",
    "*Hint: show that maximizing the log likelihood is equivalent to minimizing the MSE.*"
   ]
  },
  {
   "cell_type": "markdown",
   "metadata": {},
   "source": [
    "**2.**\n",
    "\n",
    "From before, our likelihood function:\n",
    "$$ \\prod_{n=1}^N p(y_n|x_n,w_1,w_0)\\ = \\prod_{n=1}^N \\frac {1}{\\sqrt{2 π \t{\\displaystyle \\sigma ^{2}}}\\} e^{-\\frac {(y_n-\t{\\displaystyle}\\mu)^2}{{2\\displaystyle \\sigma ^{2}}}\\}\\$$\n",
    "\n",
    "From this, we can obtain the log likelihood function:\n",
    "$$log(\\prod_{n=1}^N p(y_n|x,w_1,w_0)) = \\sum_{n=1}^N log(p(y_n|x_n,w_1,w_0))$$\n",
    "$$ = \\sum_{n=1}^N log (\\frac {1}{\\sqrt{2 π {\\displaystyle \\sigma ^{2}}}}e^{-\\frac {(y_n-\t{\\displaystyle}\\mu)^2}{{2\\displaystyle \\sigma ^{2}}}})$$\n",
    "$$ = -\\frac{N}{2}log(π) - \\sum_{n=1}^N (y_n - w_0 - w_1 x_n)^2 \\ $$\n",
    "\n",
    "Therefore, we have\n",
    "\n",
    "$$ w^{\\text{MLE}}_1, w^{\\text{MLE}}_0 = \\underset{w_1, w_0}{\\mathrm{argmax}}\\;[-\\frac{N}{2}log(π) - \\sum_{n=1}^N (y_n - w_0 - w_1 x_n)^2 ]\\ $$\n",
    "\n",
    "$$ = \\underset{w_1, w_0}{\\mathrm{argmax}}\\; - \\sum_{n=1}^N (y_n - w_0 - w_1 x_n)^2\\ $$\n",
    "$$ = \\underset{w_1, w_0}{\\mathrm{argmin}}\\; \\sum_{n=1}^N (y_n - w_0 - w_1 x_n)^2\\ $$\n",
    "$$ = \\underset{w_1, w_0}{\\mathrm{argmin}}\\; \\frac {1}{N}\\sum_{n=1}^N (y_n - w_0 - w_1 x_n)^2\\ $$\n",
    "\n",
    "this is equivalent to minimising the mean squared error.\n"
   ]
  },
  {
   "cell_type": "markdown",
   "metadata": {},
   "source": [
    "3. **(Model Fitting)** Analytically derive the formulae for MLE of $w_1$ and $w_0$. Describe what information you would need in order ***prove*** that the parameters you derived maximizes the likelihood (or minimizes the MSE)?\n",
    "\n",
    "  **Extra Credit:** express your derivation of the MLE in matrix notation (i.e. [perform matrix calculus](https://www.math.uwaterloo.ca/~hwolkowi/matrixcookbook.pdf)).\n",
    "\n",
    "  *Hint: this part requires multivariate calculus.*"
   ]
  },
  {
   "cell_type": "markdown",
   "metadata": {},
   "source": [
    "We can express the analytic derivtion of $ŵ_1$ and $ŵ_0$ solely in matrix form; for each observation n, $$ y_n = w_1 x_n + w_0 + \\epsilon, \\quad \\epsilon \\sim \\mathcal{N}(0, 0.5) $$\n",
    "For N observations,\n",
    " $ Y =  \\left( \\begin{array}{ccc}\n",
    "y_1 \\\\\n",
    "y_2 \\\\\n",
    "⋮ \\\\\n",
    "y_n  \\end{array} \\right) \\,\\,$; $  X = \\left( \\begin{array}{ccc}\n",
    "1 & x_1 \\\\\n",
    "1 & x_2 \\\\\n",
    "⋮ & ⋮ \\\\\n",
    "1 & x_n  \\end{array} \\right) \\,\\,$; $  W = \\left( \\begin{array}{ccc}\n",
    "w_0 \\\\ w_1 \\end{array} \\right) \\,\\,$; $  E = \\left( \\begin{array}{ccc}\n",
    "\\epsilon_1 \\\\\n",
    "\\epsilon_2 \\\\\n",
    "⋮ \\\\\n",
    "\\epsilon_n  \\end{array} \\right) \\,\\,$;\n",
    "\n",
    "As such, we have $Y = XW + E$\n",
    "Since we've shown that the MLE is equivalent to minimising the sum of squared errors for the linear model, we can analytically derive the formulae for MLE of w_1 and w_0 by minimising the squared error vector. I.e. we want to obtain the vector $Ŵ$ that minimises $E$\n",
    "\n",
    "$$ = \\underset{Ŵ ∈ R^n}{\\mathrm{argmin}}\\;  \\sum_{n=1}^N \\epsilon^2_n\\ $$\n",
    "$$ = \\underset{Ŵ ∈ R^n}{\\mathrm{argmin}}\\;  E'E $$\n",
    "$$ = \\underset{Ŵ ∈ R^n}{\\mathrm{argmin}}\\;  (Y-XW)'(Y-XW) $$\n",
    "$$ = \\underset{Ŵ ∈ R^n}{\\mathrm{argmin}}\\;  [Y'Y -Y'XW - W'X'Y - W'XX'W] $$\n",
    "\n",
    "  since $Y'XB$ and $B'X'Y$ are scalar,\n",
    "$$ = \\underset{Ŵ ∈ R^n}{\\mathrm{argmin}}\\;  [Y'Y -2X'YW- W'XX'W] $$\n",
    "  taking the first order condition, we set the first derivative to zero,\n",
    "$$ - 2X'Y + 2X'XŴ = 0 $$\n",
    "$$ X'XŴ = Y'X $$\n",
    "$$ Ŵ = (X'X)^{-1} X'Y $$\n",
    "such that $ Ŵ = (X'X)^{-1} X'Y $\n",
    "$ \\left( \\begin{array}{ccc} ŵ_0 \\\\ ŵ_1 \\end{array} \\right) \\,\\,$ = $(X'X)^{-1} X'Y$\n",
    "which is also equals to:\n",
    "\n",
    "$$ \\left( \\begin{array}{ccc} ŵ_0 \\\\ ŵ_1 \\end{array} \\right)\\,\\, = \\left( \\begin{array}{ccc} ȳ - ŵ_0 x̄ \\\\ \\frac{\\sum_{n=1}^N (y_n - ȳ)(x_n - x̄)}{\\sum_{n=1}^N (x_n - x̄)^2} \\end{array} \\right) \\,\\,$$"
   ]
  },
  {
   "cell_type": "markdown",
   "metadata": {},
   "source": [
    "4. **(Model Evaluation)** Using the `LinearRegression` class from `sklearn.linear_model`, fit a linear regression model to the dataset in `HW0_data.csv`. When you call the `.fit()` function of `LinearRegression`, the default is to find parameters that minimize MSE.\n",
    "\n",
    "  Visualize the linear function you fitted as well as the data in one plot. \n",
    "  Visualize a histogram of the residuals.\n",
    "  Using both plots, argue for whether or not your model is appropriate for the data.\n",
    "  \n",
    "  *Hint: look at the assumptions you've made in your modeling process, which assumptions are supported by the data, which are contradicted by the data?*"
   ]
  },
  {
   "cell_type": "code",
   "execution_count": 243,
   "metadata": {},
   "outputs": [
    {
     "data": {
      "image/png": "[encoded data removed]",
      "text/plain": [
       "<Figure size 1440x360 with 2 Axes>"
      ]
     },
     "metadata": {
      "needs_background": "light"
     },
     "output_type": "display_data"
    }
   ],
   "source": [
    "# Read the dataset from local directory\n",
    "df = pd.read_csv(\"C:/Users/jovin/OneDrive/Desktop/AM207/W1/HW0_data.csv\")\n",
    "\n",
    "# store in the x and y values\n",
    "x = np.asarray(df.iloc[:,0])\n",
    "y = np.asarray(df.iloc[:,1])\n",
    "\n",
    "# reshape the arrays\n",
    "x = x.reshape(100,-1)\n",
    "y = y.reshape(100,-1)\n",
    "\n",
    "# we can first visually inspect the data on a scatter plot\n",
    "fig, ax = plt.subplots(1, 2, figsize=(20, 5))\n",
    "ax[0].scatter(x,y, alpha = 0.5, color = 'green')\n",
    "\n",
    "# fit a linear regression model to the data\n",
    "model = LinearRegression()\n",
    "model.fit(x,y)\n",
    "\n",
    "# explore model statistics\n",
    "model.coef_\n",
    "model.intercept_\n",
    "\n",
    "# to visualise our linear model, we can run the x values through the model's predictions\n",
    "x_alt = x.reshape(1,-1)[0]\n",
    "y_alt = model.predict(x_alt[:,None])\n",
    "ax[0].plot(x_alt,y_alt, 'blue', alpha=0.7)\n",
    "\n",
    "# alternatively, we can generate test values around the range of the original data\n",
    "x_test = np.linspace(-15,15)\n",
    "\n",
    "# we input our generated test values into our linear model and generate an array of predicted values\n",
    "y_test = model.predict(x_test[:,None])\n",
    "\n",
    "# we plot a line using our test values and predicted values\n",
    "ax[0].plot(x_test,y_test,'red', alpha=0.7)\n",
    "ax[0].set_title('Fig 4.1 Linear model and test values')\n",
    "\n",
    "# we can obtain the residuals as the absolute difference between actual y-values and predicted y-values\n",
    "residuals = y - y_alt\n",
    "\n",
    "# we plot the residuals\n",
    "ax[1].hist(residuals, color = 'green', alpha = 0.4)\n",
    "ax[1].set_title('Fig 4.2 Histogram of absolute residuals for our linear model')\n",
    "ax[1].set_xticks(range(60),5)\n",
    "plt.show()"
   ]
  },
  {
   "cell_type": "markdown",
   "metadata": {},
   "source": [
    "**4.**\n",
    "\n",
    "Based on our inspection of the scatterplot in Fig 4.1, we see that the observations seem to cluster around (0,0) and that our linear model seems to provide us with a good fit around the neighbourhood of (0,0). However, the observations seem to exhibit greater spread the further the observation is from (0,0). Data might exhibit heteroscedasticity.\n",
    "\n",
    "The histogram illustrates the density of deviations; it suggests that the bulk of the residuals are relatively small (i.e. less than 5) but that we have a significant number observations with large deviations from the model."
   ]
  },
  {
   "cell_type": "markdown",
   "metadata": {},
   "source": [
    "5. **(Uncertainty Quantification)** Compute the 95% [Confidence Interval (CI)](https://stattrek.com/estimation/confidence-interval.aspx) of the parameters you estimated for the dataset in `HW0_data.csv` by bootstrapping (this requires you to access the model parameters of the `LinearRegression` class). How confident are you in the 'correctness' or 'reliability' of your parameter estimates given the CI's?\n",
    "\n",
    "  Compute the [Predictive Interval (PI)](https://otexts.com/fpp2/prediction-intervals.html) of a single prediction at $x=2$ by bootstrapping. How confident are you in your prediction for $x=2$ given the PI?\n",
    "  \n",
    "\n",
    "  *Hint: bootstrapping is the process of (1) generating multiple datasets (with equal size as the training data) that are similarly distributed as your training data by sampling your data with replacement, (2) estimating a quantity of interest repeatedly using these datasets. You can then empirically compute the percentile of interest from the bootstrap estimates of your quanity of interest.* \n",
    "  \n",
    "  *Generating samples from your training data can be done using the `.sample()` function of the `pandas` `DataFrame` class.*\n",
    "  \n",
    "  *Computing percentiles of samples can be done using the `.percentile()` function of the `numpy` library.*"
   ]
  },
  {
   "cell_type": "code",
   "execution_count": 341,
   "metadata": {},
   "outputs": [
    {
     "data": {
      "text/plain": [
       "array([[18.9817634]])"
      ]
     },
     "execution_count": 341,
     "metadata": {},
     "output_type": "execute_result"
    }
   ],
   "source": [
    "test = df.sample(frac=0.9,replace=True)\n",
    "sample_x = np.asarray(test[\"x\"])\n",
    "sample_y = np.asarray(test[\"y\"])\n",
    "x_samp = sample_x.reshape(90,-1)\n",
    "y_samp = sample_y.reshape(90,-1)\n",
    "\n",
    "ns_model = LinearRegression()\n",
    "ns_model.fit(x_samp,y_samp)\n",
    "\n",
    "\n",
    "ns_model.predict(np.array([[2]]))"
   ]
  },
  {
   "cell_type": "code",
   "execution_count": 343,
   "metadata": {},
   "outputs": [
    {
     "name": "stdout",
     "output_type": "stream",
     "text": [
      "Our 95% confidence interval for our w0 estimate is the range 5.995995648917438 : 11.713825193861807\n",
      "Our 95% confidence interval for our w1 estimate is the range 4.334314178509847 : 6.1412821630017875\n"
     ]
    }
   ],
   "source": [
    "# specify number of trials for our bootstrap distribution\n",
    "no_bootstrap = 999\n",
    "\n",
    "# initialise empty lists for bootstrap distribution of coefficient and intercept\n",
    "pred_coeff = [] \n",
    "pred_inter = []\n",
    "\n",
    "# initialise empty list for predictive interval\n",
    "PI_value_y = []\n",
    "\n",
    "# for loop to conduct the bootstrap tirals\n",
    "for i in range(no_bootstrap):\n",
    "    # get paired samples from our dataframe and arrange\n",
    "    sample_x_y = df.sample(frac=0.9,replace=True)\n",
    "    sample_x = np.asarray(sample_x_y[\"x\"])\n",
    "    sample_y = np.asarray(sample_x_y[\"y\"])\n",
    "    x_samp = sample_x.reshape(90,-1)\n",
    "    y_samp = sample_y.reshape(90,-1)\n",
    "    \n",
    "    # fit sample data to a linear model\n",
    "    bs_model = LinearRegression()\n",
    "    bs_model.fit(x_samp,y_samp)\n",
    "    \n",
    "    # store in the coeff and intercept values to our list\n",
    "    pred_coeff.append(bs_model.coef_)\n",
    "    pred_inter.append(bs_model.intercept_)\n",
    "    \n",
    "    # obtain a prediction of y values based on our predictive model when x = 2\n",
    "    y_pred_2 = bs_model.predict(np.array([[2]]))\n",
    "    PI_value_y.append(y_pred_2)\n",
    "    \n",
    "# using the distribution, get the percentile values\n",
    "ci_w0_l = np.percentile(pred_inter, 2.5)\n",
    "ci_w0_u = np.percentile(pred_inter, 97.5)\n",
    "\n",
    "ci_w1_l = np.percentile(pred_coeff, 2.5)\n",
    "ci_w1_u = np.percentile(pred_coeff, 97.5)\n",
    "\n",
    "print(\"Our 95% confidence interval for our w0 estimate is the range {} : {}\".format(ci_w0_l,ci_w0_u))\n",
    "print(\"Our 95% confidence interval for our w1 estimate is the range {} : {}\".format(ci_w1_l,ci_w1_u))"
   ]
  },
  {
   "cell_type": "markdown",
   "metadata": {},
   "source": [
    "The interpretation of a 95% confidence interval is that with repeated sampling, the true value of the estimands (w0 and w1) will lie within the range of our confidence intervals:\n",
    "$$[6.2354 , 11.442]$$\n",
    "$$[4.3295 , 6.1444]$$\n",
    "respectively in 95% of our trials.\n",
    "\n",
    "In that sense, we are 95% confident of the reliability of our parameters given the confidence intervals."
   ]
  },
  {
   "cell_type": "code",
   "execution_count": 347,
   "metadata": {},
   "outputs": [
    {
     "name": "stdout",
     "output_type": "stream",
     "text": [
      "Our 95% predictive interval for y when x = 2 is the range 16.5683385558395 : 22.01626044548089\n"
     ]
    }
   ],
   "source": [
    "# From before, we have a list that corresponds to the distribution of our predicted values of y when x = 2\n",
    "# We can get the percentile values at the 95% level of significance\n",
    "pi_l = np.percentile(PI_value_y, 2.5)\n",
    "pi_u = np.percentile(PI_value_y, 97.5)\n",
    "\n",
    "print(\"Our 95% predictive interval for y when x = 2 is the range {} : {}\".format(pi_l,pi_u))"
   ]
  },
  {
   "cell_type": "markdown",
   "metadata": {},
   "source": [
    "## Part II: Bayesian Linear Regression\n",
    "### (Material covered in CS109 B or equivalent)\n",
    "In this problem, your task is to perform Bayesian linear regression on the dataset in `HW0_data.csv`.\n",
    "\n",
    "Assume that the outcome $y$ can be modeled by the following process:\n",
    "\\begin{aligned}\n",
    "y &= f(x) + \\epsilon = w_1x + w_0 + \\epsilon, \\quad \\epsilon \\sim \\mathcal{N}(0, 0.5)\\\\\n",
    "w_0 &\\sim \\mathcal{N}(0, 1)\\\\\n",
    "w_1 &\\sim \\mathcal{N}(0, 0.5)\n",
    "\\end{aligned}\n",
    "In this model, we assume the same likelihood as in Part I, but we also include priors for $w_0$ and $w_1$: $p(w_0) = \\mathcal{N}(0, 1)$, $p(w_1) = \\mathcal{N}(0, 0.5)$"
   ]
  },
  {
   "cell_type": "markdown",
   "metadata": {},
   "source": [
    "1. **(Inference)** Analytically derive the joint posterior distribution over the parameters. That is, analytically compute\n",
    "\n",
    "\\begin{aligned}\n",
    "p(w_1, w_0 | y_1, \\ldots y_n, x_1, \\ldots, x_n) = \\frac{\\left(\\prod_{n=1}^Np(y_n|x_n, w_1, w_0)\\right)p(w_1)p(w_0)}{\\prod_{n=1}^Np(y_n|x_n)}.\n",
    "\\end{aligned}\n",
    "\n",
    "\n",
    "  *Hint: The posterior of a model with a Gaussian (or normal) likelihood and Gaussian priors is yet again Gaussian. This derivation is included in many machine learning textbooks like Machine Learning: a Probabilistic Perspective by Murphy or Pattern Recognition and Machine Learning by Bishop. This derivation also appears online in many course notes - you are welcomed to use any and all available resources.*"
   ]
  },
  {
   "cell_type": "markdown",
   "metadata": {},
   "source": [
    "$$p(w_1, w_0 | y_1, \\ldots y_n, x_1, \\ldots, x_n) ∝  \\frac{\\left(\\prod_{n=1}^Np(y_n|x_n, w_1, w_0)\\right)p(w_1)p(w_0)}{\\prod_{n=1}^Np(y_n|x_n)}$$\n",
    "\n",
    "$$p(w_1, w_0 | y_1, \\ldots y_n, x_1, \\ldots, x_n) ∝  \\frac{\\left(\\prod_{n=1}^Np(y_n|x_n, w_1, w_0)\\right)p(w_1)p(w_0)}{\\prod_{n=1}^Np(y_n|x_n)}$$"
   ]
  },
  {
   "cell_type": "markdown",
   "metadata": {},
   "source": [
    "2. **(Model Interpretation)** Visualize the ***joint posterior*** over the parameters, $p(w_1, w_0 | y, x)$ for the dataset in `HW0_data.csv` (you may use a scatter plot of samples drawn from the posterior or a contour map/heat map of the pdf). In separate plots, visualize the ***marginal posterior*** distribution over each parameter,\n",
    "\n",
    "\n",
    "\\begin{aligned}\n",
    "p(w_1 | y_1, \\ldots y_n, x_1, \\ldots, x_n) &= \\int_{w_0} p(w_1, w_0 | y_1, \\ldots y_n, x_1, \\ldots, x_n) dw_0\\\\\n",
    "p(w_0 | y_1, \\ldots y_n, x_1, \\ldots, x_n) &= \\int_{w_0} p(w_1, w_0 | y_1, \\ldots y_n, x_1, \\ldots, x_n) dw_1\n",
    "\\end{aligned}\n",
    "\n",
    "  Is the information contained in the joint posterior $p(w_1, w_0 | y_1, \\ldots y_n, x_1, \\ldots, x_n)$ equivalent to the information contained in the two marginals $p(w_1 | y_1, \\ldots y_n, x_1, \\ldots, x_n), p(w_0 | y_1, \\ldots y_n, x_1, \\ldots, x_n)$? That is, what does each distribution tell you?\n",
    "\n",
    "  *Hint: it is not necessary to analytically derive the marginals $p(w_i | y_1, \\ldots y_n, x_1, \\ldots, x_n)$. Recall that you can perform marginalization of a variable by sampling from the joint distribution and disregarding that variable.*"
   ]
  },
  {
   "cell_type": "code",
   "execution_count": null,
   "metadata": {},
   "outputs": [],
   "source": []
  },
  {
   "cell_type": "markdown",
   "metadata": {},
   "source": [
    "3. **(Prediction)** In Bayesian linear regression, we obtain a distribution over possible parameters given the data, $p(w_1, w_0 | y_1, \\ldots y_n, x_1, \\ldots, x_n)$, rather than a single ***point-estimate*** of the 'best' parameters. This means that when we predict an outcome for, say, $x=2$ we get a distribution over possible values of $y$ rather than a single $y$. The distribution over the predicted $y$ for a given $x$ is called the ***posterior predictive***, and is denoted $p(y|x)$.\n",
    "\n",
    "  Visualize the posterior predictive $p(y|x)$ at $x=2$ for the dataset in `HW0_data.csv`as a histogram. \n",
    "\n",
    "  *Hint: randomly sample possible parameters from the posterior $p(w_1, w_0 | y_1, \\ldots y_n, x_1, \\ldots, x_n)$. Each sample represents a linear function $f(x)$. Make a prediction at $x=2$ using each $f(x)$.*"
   ]
  },
  {
   "cell_type": "code",
   "execution_count": null,
   "metadata": {},
   "outputs": [],
   "source": []
  },
  {
   "cell_type": "markdown",
   "metadata": {},
   "source": [
    "## Part III: Comparison\n",
    "\n",
    "You've now modeled the same set of data using non-Bayesian and Bayesian regression models. In both paradigms it's possible to identify a 'best' set of model parameters (in the non-Bayesian approach, we compute the MLE; in the Bayesian approach, we can compute the mean or mode of the posterior). In both paradigms it is possible to get a sense of the uncertainty we have about our estimates of the parameter and our predictions. \n",
    "\n",
    "1. Compute the 95 percentile interval of the marginal posterior distributions $p(w_i | y_1, \\ldots y_n, x_1, \\ldots, x_n)$  for the dataset in `HW0_data.csv` (you can either do this analytically, or empirically using samples from $p(w_i | y_1, \\ldots y_n, x_1, \\ldots, x_n)$). Compare these intervals to the CI's you computed in Part I. Which interval is wider? What does this say about the uncertainty of each model over the parameters?"
   ]
  },
  {
   "cell_type": "code",
   "execution_count": null,
   "metadata": {},
   "outputs": [],
   "source": []
  },
  {
   "cell_type": "markdown",
   "metadata": {},
   "source": [
    "2. Compute the 95 percentile interval of posterior predictive at $x=2$ for the dataset in `HW0_data.csv` (you can either do this analytically, or empirically using samples from $p(y| x=2)$). Compare this interval to the PI you computed in Part I. Which interval is wider? What does this say about the uncertainty of each model over the prediction?"
   ]
  },
  {
   "cell_type": "code",
   "execution_count": null,
   "metadata": {},
   "outputs": [],
   "source": []
  },
  {
   "cell_type": "markdown",
   "metadata": {},
   "source": [
    "**Extra Credit:** For the maximum likelihood model, visualize the mean prediction and the PI at 100 equally spaced $x$'s (using bootstrap) against the training data. Scatter plot the data; plot the mean prediction as a line; plot the PI as similarly colored shaded region (use the `.fill_between()` function from the `matplotlib`).\n",
    "\n",
    "For the Bayesian regression model, visualize the posterior mean prediction and the 95 percentile interval of the posterior predictive (you should estimate these quantities empirically). Scatter plot the data; plot the posterior mean prediction as a line; plot the PI as similarly colored shaded region. \n",
    "\n",
    "Using these visualizations, make an argument for which model is more appropriate for the model. \n",
    "\n",
    "For each model how do your choices (the variance in the likelihood, the priors) affect the model you learn? Given the visualizations, are our choices of the likelihood (and or the priors) appropriate?"
   ]
  },
  {
   "cell_type": "code",
   "execution_count": null,
   "metadata": {},
   "outputs": [],
   "source": []
  }
 ],
 "metadata": {
  "kernelspec": {
   "display_name": "Python 3",
   "language": "python",
   "name": "python3"
  },
  "language_info": {
   "codemirror_mode": {
    "name": "ipython",
    "version": 3
   },
   "file_extension": ".py",
   "mimetype": "text/x-python",
   "name": "python",
   "nbconvert_exporter": "python",
   "pygments_lexer": "ipython3",
   "version": "3.7.3"
  }
 },
 "nbformat": 4,
 "nbformat_minor": 2
}
